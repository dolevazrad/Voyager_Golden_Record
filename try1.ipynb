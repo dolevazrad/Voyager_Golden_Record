{
 "cells": [
  {
   "cell_type": "code",
   "execution_count": null,
   "metadata": {},
   "outputs": [],
   "source": [
    "from pydub import AudioSegment\n",
    "from pydub.utils import get_array_type\n",
    "import tempfile\n",
    "import os\n",
    "import array\n",
    "import matplotlib.pyplot as plt\n",
    "import numpy as np\n",
    "\n",
    "sound = AudioSegment.from_mp3('voyager.mp3')\n",
    "left = sound.split_to_mono()[0]\n",
    "bit_depth = left.sample_width * 8\n",
    "array_type = get_array_type(bit_depth)\n",
    "\n",
    "numeric_array = array.array(array_type, left._data)"
   ]
  },
  {
   "cell_type": "code",
   "execution_count": null,
   "metadata": {},
   "outputs": [],
   "source": [
    "plt.plot(numeric_array)\n",
    "plt.show()"
   ]
  },
  {
   "cell_type": "code",
   "execution_count": null,
   "metadata": {},
   "outputs": [],
   "source": [
    "offset = 512\n",
    "window_size = 512\n",
    "window = numeric_array[offset:offset + window_size]\n",
    "plt.plot(range(len(window)), window)\n"
   ]
  },
  {
   "cell_type": "code",
   "execution_count": null,
   "metadata": {},
   "outputs": [],
   "source": [
    "#print(timesteps)\n",
    "\n",
    "offset = 6227756  \n",
    "window_size = round(3200)\n",
    "fig, axs = plt.subplots(2, 2)\n",
    "\n",
    "window = numeric_array[offset:offset + window_size]\n",
    "t = range(len(window))\n",
    "axs[0, 0].plot(t, window)\n",
    "\n",
    "window = numeric_array[offset + window_size:offset + 2*window_size]\n",
    "t = range(len(window))\n",
    "axs[1, 0].plot(t, window)\n",
    "\n",
    "window = numeric_array[offset + 2*window_size:offset + 3*window_size]\n",
    "t = range(len(window))\n",
    "axs[0, 1].plot(t, window)\n",
    "\n",
    "window = numeric_array[offset + 3*window_size:offset + 4*window_size]\n",
    "t = range(len(window))\n",
    "axs[1, 1].plot(t, window)"
   ]
  },
  {
   "cell_type": "code",
   "execution_count": null,
   "metadata": {},
   "outputs": [],
   "source": [
    "image_data = []\n",
    "offset = 6227756\n",
    "scan_width = 500\n",
    "for scan in range(512):\n",
    "    image_data.append(numeric_array[offset:offset+scan_width])\n",
    "    offset += scan_width\n",
    "plt.imshow(image_data)\n",
    "plt.show()    "
   ]
  }
 ],
 "metadata": {
  "kernelspec": {
   "display_name": "Python 3",
   "language": "python",
   "name": "python3"
  },
  "language_info": {
   "codemirror_mode": {
    "name": "ipython",
    "version": 3
   },
   "file_extension": ".py",
   "mimetype": "text/x-python",
   "name": "python",
   "nbconvert_exporter": "python",
   "pygments_lexer": "ipython3",
   "version": "3.10.9 (tags/v3.10.9:1dd9be6, Dec  6 2022, 20:01:21) [MSC v.1934 64 bit (AMD64)]"
  },
  "orig_nbformat": 4,
  "vscode": {
   "interpreter": {
    "hash": "d7fbb4fda030b2b5c2e278b22093117750e66dd758afe6498e262d203b04d197"
   }
  }
 },
 "nbformat": 4,
 "nbformat_minor": 2
}
